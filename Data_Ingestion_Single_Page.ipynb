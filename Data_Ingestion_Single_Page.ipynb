{
 "cells": [
  {
   "cell_type": "markdown",
   "metadata": {},
   "source": [
    "# Data Ingestion With Selenium V1\n",
    "## _Automatically filling multiple responses into a **single page** Google Form with Selenium_ and Python"
   ]
  },
  {
   "cell_type": "markdown",
   "metadata": {},
   "source": [
    "## Downloading Python bindings for Selenium\n",
    "You can download Python bindings for Selenium from the PyPI page for selenium package. It has a dependency on rdflib , version 3.1.x.\n",
    "\n",
    "You can also use easy_install or pip to install the bindings:"
   ]
  },
  {
   "cell_type": "code",
   "execution_count": null,
   "metadata": {},
   "outputs": [],
   "source": [
    "easy_install selenium"
   ]
  },
  {
   "cell_type": "markdown",
   "metadata": {},
   "source": [
    "or"
   ]
  },
  {
   "cell_type": "code",
   "execution_count": null,
   "metadata": {},
   "outputs": [],
   "source": [
    "\n",
    "pip install selenium"
   ]
  },
  {
   "cell_type": "markdown",
   "metadata": {},
   "source": [
    "## ChromeDriver\n",
    "#### Quick installation\n",
    "- Mac users with Homebrew installed: brew install --cask chromedriver\n",
    "- Debian based Linux distros: sudo apt-get install chromium-driver\n",
    "- Windows users with Chocolatey installed: choco install chromedriver"
   ]
  },
  {
   "cell_type": "markdown",
   "metadata": {},
   "source": [
    "## Import Modules"
   ]
  },
  {
   "cell_type": "code",
   "execution_count": 1,
   "metadata": {},
   "outputs": [],
   "source": [
    "from selenium import webdriver\n",
    "from selenium.webdriver.common.by import By\n",
    "from selenium.webdriver.support.ui import WebDriverWait\n",
    "from selenium.webdriver.support import expected_conditions as EC\n",
    "from selenium.webdriver.chrome.options import Options\n",
    "from selenium.webdriver.chrome.service import Service\n",
    "from webdriver_manager.chrome import ChromeDriverManager\n",
    "#Time is important in this code due to sometimes Google Form cannot handle the speed and we need to give it time to process the information.\n",
    "import time\n",
    "#We need it to read the excel file\n",
    "import pandas as pd\n",
    "# we need it in order to automatically recognize the user of the computer\n",
    "import os\n",
    "#we get a warning from the excel file. It is due openpyxl cant handle files with list boxes, it does not interfere the proper runnin of the code. \n",
    "import warnings \n",
    "#we are gonna create a log file with it. The log file will be re-written everytime we use the code.\n",
    "import sys"
   ]
  },
  {
   "cell_type": "markdown",
   "metadata": {},
   "source": [
    "## Opening/creation of the log file"
   ]
  },
  {
   "cell_type": "code",
   "execution_count": 2,
   "metadata": {},
   "outputs": [],
   "source": [
    "sys.stdout=open(\"LogFile.txt\",\"w\") "
   ]
  },
  {
   "cell_type": "markdown",
   "metadata": {},
   "source": [
    "## Excel File Path and Read Excel"
   ]
  },
  {
   "cell_type": "code",
   "execution_count": 3,
   "metadata": {},
   "outputs": [],
   "source": [
    "## Somtimes Openpyxl will give a waning using Selenium. That warning does not affect the work, so we just ifnore it.\n",
    "warnings.filterwarnings('ignore', category=UserWarning, module='openpyxl')\n",
    "##To get the username of the system\n",
    "username = os.getlogin()\n",
    "##In this way we do not assign a windows user, it will look for it.# Creating a Path variable and Use username var in f string\n",
    "path= os.path.expanduser(F'C:/Users/{username}/Downloads/Calls.xlsx')\n",
    "#The tab where the incidents/processes are must be called \"Results\"\n",
    "df=pd.read_excel(path,sheet_name='Results')\n",
    "df\n",
    "##We print the step in case there is an error\n",
    "print ('Excel File was read', end='\\n',flush=True)"
   ]
  },
  {
   "cell_type": "markdown",
   "metadata": {},
   "source": [
    "## Open Chrome Browser"
   ]
  },
  {
   "cell_type": "code",
   "execution_count": 4,
   "metadata": {},
   "outputs": [],
   "source": [
    "options = Options()\n",
    "options.add_experimental_option('excludeSwitches', ['enable-logging'])\n",
    "driver = webdriver.Chrome(service=Service(ChromeDriverManager().install()), options=options)\n",
    "## We print the step in case there is an error\n",
    "print ('webdriver.Chrome was Opened', end='\\n',flush=True)"
   ]
  },
  {
   "cell_type": "markdown",
   "metadata": {},
   "source": [
    "## Dictionaries Information Calls"
   ]
  },
  {
   "cell_type": "code",
   "execution_count": 5,
   "metadata": {},
   "outputs": [],
   "source": [
    "#Agent Name Dicctionary\n",
    "InfoAgent_dict={'Daniel':'//*[@id=\"mG61Hd\"]/div[2]/div/div[2]/div[1]/div/div/div[2]/div/div[2]/div[3]',\n",
    "                 'David':'//*[@id=\"mG61Hd\"]/div[2]/div/div[2]/div[1]/div/div/div[2]/div/div[2]/div[4]'\n",
    "                 }\n",
    "#Source of the call Dicctionary\n",
    "InfoSource_dict={'Incoming Call':'//*[@id=\"i9\"]/div[3]',\n",
    "                  'Outgoing Call':'//*[@id=\"i12\"]/div[3]'\n",
    "                 }\n",
    "#Product Dicctionary\n",
    "InfoProduct_dict={'Home repairs':'//*[@id=\"mG61Hd\"]/div[2]/div/div[2]/div[5]/div/div/div[2]/div/div[2]/div[3]',\n",
    "                   'Personal care':'//*[@id=\"mG61Hd\"]/div[2]/div/div[2]/div[5]/div/div/div[2]/div/div[2]/div[4]'\n",
    "                  }\n",
    "#Call Result Dicctionary\n",
    "InfoResult_dict={'Silent call':'//*[@id=\"mG61Hd\"]/div[2]/div/div[2]/div[6]/div/div/div[2]/div/div[2]/div[3]',\n",
    "                     'Call dropped':'//*[@id=\"mG61Hd\"]/div[2]/div/div[2]/div[6]/div/div/div[2]/div/div[2]/div[4]',\n",
    "                     'Unanswered call':'//*[@id=\"mG61Hd\"]/div[2]/div/div[2]/div[6]/div/div/div[2]/div/div[2]/div[5]',\n",
    "                     'Transferred to sales':'//*[@id=\"mG61Hd\"]/div[2]/div/div[2]/div[6]/div/div/div[2]/div/div[2]/div[6]',\n",
    "                     'Not interested':'//*[@id=\"mG61Hd\"]/div[2]/div/div[2]/div[6]/div/div/div[2]/div/div[2]/div[7]'\n",
    "                     }\n",
    "##We print the step in case there is an error\n",
    "print ('Dictionaries were Loaded', end='\\n\\n\\n',flush=True)"
   ]
  },
  {
   "cell_type": "markdown",
   "metadata": {},
   "source": [
    "## Start of the \"For Loop\"\n",
    "Python \"For Loop\" to iterate in the Excel file until there is a empty row\n",
    "\n",
    "So it will fill up the responses in the google form"
   ]
  },
  {
   "cell_type": "code",
   "execution_count": 6,
   "metadata": {},
   "outputs": [],
   "source": [
    "for row, datos in df.iterrows():\n",
    "    InformationForm = 'https://forms.gle/oLq3tF4AhKnY2NE58'\n",
    "    seconds = time.time()\n",
    "    InfoAgent =  datos ['Agent Name']\n",
    "    InfoSource =  datos ['Source']\n",
    "    InfoPhone = datos ['Phone Number']\n",
    "    InfoProduct = datos ['Product']\n",
    "    InfoEmail = datos ['Email Adress']\n",
    "    InfoResult = datos ['Call Result']\n",
    "    print ('Variables were created', end='\\n',flush=True)##We print the step in case there is an error\n",
    "\n",
    "    ##open Google Form\n",
    "    driver.get(InformationForm)\n",
    "    print ('Information Google Form Opened', end='\\n',flush=True)##We print the step in case there is an error\n",
    "\n",
    "    ##Click on Next Button\n",
    "    driver.find_element(\"xpath\",'//*[@id=\"mG61Hd\"]/div[2]/div/div[3]/div[1]/div[1]/div/span/span').click()\n",
    "\n",
    "    #Open Agent List\n",
    "    driver.find_element(\"xpath\",'//*[@id=\"mG61Hd\"]/div[2]/div/div[2]/div[1]/div/div/div[2]/div/div[1]/div[1]/div[1]/span').click()\n",
    "\n",
    "    #Delay 2 second\n",
    "    time.sleep(2)\n",
    "\n",
    "    ##Select Agent\n",
    "    driver.find_element(By.XPATH,InfoAgent_dict[InfoAgent]).click()\n",
    "    ##We print the step in case there is an error\n",
    "    print ('Information Agente selected', InfoAgent, end='\\n',flush=True)\n",
    "\n",
    "    #Delay 2 second\n",
    "    time.sleep(2)\n",
    "\n",
    "    #Select Source\n",
    "    driver.find_element(By.XPATH,InfoSource_dict[InfoSource]).click()\n",
    "    ##We print the step in case there is an error\n",
    "    print ('Information Source Selected', InfoSource, end='\\n',flush=True)\n",
    "\n",
    "    #Delay 2 second\n",
    "    time.sleep(2)\n",
    "\n",
    "    ##Write Phone Number\n",
    "    driver.find_element(\"xpath\",'//*[@id=\"mG61Hd\"]/div[2]/div/div[2]/div[3]/div/div/div[2]/div/div[1]/div/div[1]/input').send_keys(int(InfoPhone))\n",
    "    ##We print the step in case there is an error\n",
    "    print ('Information Phone Number inserted', InfoPhone, end='\\n',flush=True)\n",
    "        \n",
    "    #Delay 2 second\n",
    "    time.sleep(2)\n",
    "\n",
    "    ##Write Email\n",
    "    driver.find_element(\"xpath\",'//*[@id=\"mG61Hd\"]/div[2]/div/div[2]/div[4]/div/div/div[2]/div/div[1]/div/div[1]/input').send_keys(InfoEmail)\n",
    "    ##We print the step in case there is an error\n",
    "    print ('Information Email inserted', InfoEmail, end='\\n',flush=True)\n",
    "        \n",
    "    #Delay 2 second\n",
    "    time.sleep(2)\n",
    "\n",
    "    #Open product List\n",
    "    driver.find_element(\"xpath\",'//*[@id=\"mG61Hd\"]/div[2]/div/div[2]/div[5]/div/div/div[2]/div/div[1]/div[1]/div[1]/span').click()\n",
    "        \n",
    "    #Delay 2 second\n",
    "    time.sleep(2)\n",
    "\n",
    "    ##Select product\n",
    "    driver.find_element(By.XPATH,InfoProduct_dict[InfoProduct]).click()\n",
    "    ##We print the step in case there is an error\n",
    "    print ('Information product Selected', InfoProduct, end='\\n',flush=True)\n",
    "\n",
    "    #Delay 2 second\n",
    "    time.sleep(2)\n",
    "\n",
    "    #Open Call Result List\n",
    "    driver.find_element(\"xpath\",'//*[@id=\"mG61Hd\"]/div[2]/div/div[2]/div[6]/div/div/div[2]/div/div[1]/div[1]/div[1]/span').click()\n",
    "\n",
    "    #Delay 2 second \n",
    "    time.sleep(2)\n",
    "\n",
    "    ##Select Call Result\n",
    "    driver.find_element(By.XPATH,InfoResult_dict[InfoResult]).click()\n",
    "    ##We print the step in case there is an error\n",
    "    print ('Information Call Result Selected', InfoResult, end='\\n',flush=True)\n",
    "\n",
    "    #Delay 2 second \n",
    "    time.sleep(2)\n",
    "\n",
    "    ##Click on Submit\n",
    "    driver.find_element(\"xpath\",'//*[@id=\"mG61Hd\"]/div[2]/div/div[3]/div[1]/div[1]/div/span/span').click()\n",
    "    print ('The record was written in the Google Form, There were no errors.', end='\\n\\n',flush=True)\n",
    "\n",
    "print ('All the records were written in the Google Form, There were no errors.', end='\\n\\n',flush=True) \n",
    "sys.stdout.close() #Stop of the log file."
   ]
  }
 ],
 "metadata": {
  "kernelspec": {
   "display_name": "Python 3.7.4 64-bit",
   "language": "python",
   "name": "python3"
  },
  "language_info": {
   "codemirror_mode": {
    "name": "ipython",
    "version": 3
   },
   "file_extension": ".py",
   "mimetype": "text/x-python",
   "name": "python",
   "nbconvert_exporter": "python",
   "pygments_lexer": "ipython3",
   "version": "3.7.4"
  },
  "orig_nbformat": 4,
  "vscode": {
   "interpreter": {
    "hash": "e447912bd1abc126f1a1b02664d51750c99209b93aa0b1eb72bb880925256d69"
   }
  }
 },
 "nbformat": 4,
 "nbformat_minor": 2
}
